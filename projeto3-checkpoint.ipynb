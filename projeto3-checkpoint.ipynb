{
 "cells": [
  {
   "cell_type": "markdown",
   "metadata": {},
   "source": [
    "Gabriel Camargo\n",
    "Pedro Fonseca\n",
    "Victor Aprigliano\n",
    "\n",
    "Tema: Regressão - Preço das Casas em King Country, USA. "
   ]
  },
  {
   "cell_type": "code",
   "execution_count": 2,
   "metadata": {
    "collapsed": true
   },
   "outputs": [],
   "source": [
    "%matplotlib inline\n",
    "import math\n",
    "from sys import stdin\n",
    "import pandas as pd\n",
    "import matplotlib.pyplot as plt\n",
    "import os\n",
    "from numpy import arange\n",
    "import numpy as np\n",
    "from sklearn.linear_model import LinearRegression"
   ]
  },
  {
   "cell_type": "code",
   "execution_count": 3,
   "metadata": {},
   "outputs": [
    {
     "name": "stdout",
     "output_type": "stream",
     "text": [
      "bedrooms\n",
      "0.308349598146\n",
      "bathrooms\n",
      "0.525137505414\n",
      "sqft_living\n",
      "0.702035054612\n",
      "sqft_lot\n",
      "0.0896608605871\n",
      "floors\n",
      "0.256793887551\n",
      "waterfront\n",
      "0.266369434031\n",
      "view\n",
      "0.397293488295\n",
      "condition\n",
      "0.036361789129\n",
      "grade\n",
      "0.66743425602\n",
      "sqft_above\n",
      "0.605567298356\n",
      "sqft_basement\n",
      "0.323816020712\n",
      "yr_built\n",
      "0.0540115314948\n",
      "yr_renovated\n",
      "0.126433793441\n",
      "zipcode\n",
      "-0.0532028542983\n",
      "lat\n",
      "0.307003479995\n",
      "long\n",
      "0.0216262410393\n",
      "sqft_living15\n",
      "0.58537890358\n",
      "sqft_lot15\n",
      "0.0824471525195\n"
     ]
    }
   ],
   "source": [
    "dados = pd.read_csv('kc_house_data.csv',sep=',')\n",
    "for j in dados.columns:\n",
    "    if j!='date':\n",
    "        if j!='id':\n",
    "            if j!='price':\n",
    "                print(j)\n",
    "                print(dados[j].corr(dados['price'])) #mais 3 pq as as duas primeiras nao sao quantitativas e a terceira eh o proprio preco"
   ]
  },
  {
   "cell_type": "markdown",
   "metadata": {},
   "source": [
    "Para a regressao escolhemos as variaveis com correlacao mais forte com o preco:"
   ]
  },
  {
   "cell_type": "code",
   "execution_count": 4,
   "metadata": {},
   "outputs": [
    {
     "data": {
      "text/html": [
       "<div>\n",
       "<style>\n",
       "    .dataframe thead tr:only-child th {\n",
       "        text-align: right;\n",
       "    }\n",
       "\n",
       "    .dataframe thead th {\n",
       "        text-align: left;\n",
       "    }\n",
       "\n",
       "    .dataframe tbody tr th {\n",
       "        vertical-align: top;\n",
       "    }\n",
       "</style>\n",
       "<table border=\"1\" class=\"dataframe\">\n",
       "  <thead>\n",
       "    <tr style=\"text-align: right;\">\n",
       "      <th></th>\n",
       "      <th>date</th>\n",
       "      <th>price</th>\n",
       "      <th>bedrooms</th>\n",
       "      <th>bathrooms</th>\n",
       "      <th>sqft_living</th>\n",
       "      <th>sqft_above</th>\n",
       "      <th>grade</th>\n",
       "    </tr>\n",
       "  </thead>\n",
       "  <tbody>\n",
       "    <tr>\n",
       "      <th>0</th>\n",
       "      <td>20141013T000000</td>\n",
       "      <td>221900.0</td>\n",
       "      <td>3</td>\n",
       "      <td>1.00</td>\n",
       "      <td>1180</td>\n",
       "      <td>1180</td>\n",
       "      <td>7</td>\n",
       "    </tr>\n",
       "    <tr>\n",
       "      <th>1</th>\n",
       "      <td>20141209T000000</td>\n",
       "      <td>538000.0</td>\n",
       "      <td>3</td>\n",
       "      <td>2.25</td>\n",
       "      <td>2570</td>\n",
       "      <td>2170</td>\n",
       "      <td>7</td>\n",
       "    </tr>\n",
       "    <tr>\n",
       "      <th>2</th>\n",
       "      <td>20150225T000000</td>\n",
       "      <td>180000.0</td>\n",
       "      <td>2</td>\n",
       "      <td>1.00</td>\n",
       "      <td>770</td>\n",
       "      <td>770</td>\n",
       "      <td>6</td>\n",
       "    </tr>\n",
       "    <tr>\n",
       "      <th>3</th>\n",
       "      <td>20141209T000000</td>\n",
       "      <td>604000.0</td>\n",
       "      <td>4</td>\n",
       "      <td>3.00</td>\n",
       "      <td>1960</td>\n",
       "      <td>1050</td>\n",
       "      <td>7</td>\n",
       "    </tr>\n",
       "    <tr>\n",
       "      <th>4</th>\n",
       "      <td>20150218T000000</td>\n",
       "      <td>510000.0</td>\n",
       "      <td>3</td>\n",
       "      <td>2.00</td>\n",
       "      <td>1680</td>\n",
       "      <td>1680</td>\n",
       "      <td>8</td>\n",
       "    </tr>\n",
       "  </tbody>\n",
       "</table>\n",
       "</div>"
      ],
      "text/plain": [
       "              date     price  bedrooms  bathrooms  sqft_living  sqft_above  \\\n",
       "0  20141013T000000  221900.0         3       1.00         1180        1180   \n",
       "1  20141209T000000  538000.0         3       2.25         2570        2170   \n",
       "2  20150225T000000  180000.0         2       1.00          770         770   \n",
       "3  20141209T000000  604000.0         4       3.00         1960        1050   \n",
       "4  20150218T000000  510000.0         3       2.00         1680        1680   \n",
       "\n",
       "   grade  \n",
       "0      7  \n",
       "1      7  \n",
       "2      6  \n",
       "3      7  \n",
       "4      8  "
      ]
     },
     "execution_count": 4,
     "metadata": {},
     "output_type": "execute_result"
    }
   ],
   "source": [
    "dados = dados.loc[:,['date','price','bedrooms',\"bathrooms\",'sqft_living','sqft_above',\"grade\"]]\n",
    "#dados.columns=[\"Data de compra\",\"Preço (US DOLLAR)\",\"Nº Quartos\",\"Nº Banheiros\",'Área de Lazer',\"Área Térrea\",\"Avaliação\"]\n",
    "#dados['Data'] = pd.to_datetime(dados.Data).dados.strftime('%d/%m/%Y')\n",
    "dados.head()"
   ]
  },
  {
   "cell_type": "code",
   "execution_count": 5,
   "metadata": {},
   "outputs": [
    {
     "data": {
      "image/png": "[encoded data removed]",
      "text/plain": [
       "<matplotlib.figure.Figure at 0x29a2c224b00>"
      ]
     },
     "metadata": {},
     "output_type": "display_data"
    }
   ],
   "source": [
    "fig = plt.figure(figsize=(11, 5))\n",
    "#faixa = arange(1000,2000000,30000)\n",
    "dados[\"lnprice\"]=(np.log((dados.price)))/(np.log(math.e))\n",
    "plot= dados.lnprice.plot.hist( title='Histograma Preco', normed=1, alpha=0.6,color = 'b')\n",
    "plt.ylabel('Densidade')\n",
    "plt.xlabel(\"Preco [Dolares americanos]\")\n",
    "plt.show()"
   ]
  },
  {
   "cell_type": "code",
   "execution_count": 6,
   "metadata": {},
   "outputs": [
    {
     "name": "stdout",
     "output_type": "stream",
     "text": [
      "b1:\n",
      "208457.562458\n",
      "b0:\n",
      "-1056044.97701\n",
      "0.643280622531\n"
     ]
    }
   ],
   "source": [
    "pm=dados.price.mean()\n",
    "gm=dados.grade.mean()\n",
    "Sxx=0\n",
    "Sxy=0\n",
    "for a in range(len(dados)):\n",
    "    Sxy=Sxy+((dados.grade[a])-gm)*(dados.price[a]-pm)\n",
    "    Sxx=Sxx+(((dados.grade[a])-gm)**2)\n",
    "b1=Sxy/Sxx\n",
    "print(\"b1:\")\n",
    "print(b1)\n",
    "b0=pm-gm*b1\n",
    "print(\"b0:\")\n",
    "print(b0)\n",
    "e1=[]\n",
    "SSe=0\n",
    "SSr=0\n",
    "for a in range(len(dados)):\n",
    "    e1.append(dados.price[a]-(b0+b1*(dados.grade[a])))\n",
    "    SSe=SSe+(dados.price[a]-(b0+b1*(dados.grade[a])))**2\n",
    "    SSr=SSr+(dados.price[a]-pm)**2\n",
    "SSt=SSr+SSe\n",
    "Rsqt=1-(SSe/SSt)\n",
    "print(Rsqt)\n",
    "#X=dados[['bathrooms','grade','sqft_living','sqft_above']]"
   ]
  },
  {
   "cell_type": "code",
   "execution_count": 7,
   "metadata": {
    "scrolled": false
   },
   "outputs": [
    {
     "data": {
      "text/html": [
       "<table class=\"simpletable\">\n",
       "<caption>OLS Regression Results</caption>\n",
       "<tr>\n",
       "  <th>Dep. Variable:</th>         <td>lnprice</td>     <th>  R-squared:         </th> <td>   0.485</td> \n",
       "</tr>\n",
       "<tr>\n",
       "  <th>Model:</th>                   <td>OLS</td>       <th>  Adj. R-squared:    </th> <td>   0.485</td> \n",
       "</tr>\n",
       "<tr>\n",
       "  <th>Method:</th>             <td>Least Squares</td>  <th>  F-statistic:       </th> <td>   6795.</td> \n",
       "</tr>\n",
       "<tr>\n",
       "  <th>Date:</th>             <td>Mon, 13 Nov 2017</td> <th>  Prob (F-statistic):</th>  <td>  0.00</td>  \n",
       "</tr>\n",
       "<tr>\n",
       "  <th>Time:</th>                 <td>13:59:15</td>     <th>  Log-Likelihood:    </th> <td> -9629.4</td> \n",
       "</tr>\n",
       "<tr>\n",
       "  <th>No. Observations:</th>      <td> 21613</td>      <th>  AIC:               </th> <td>1.927e+04</td>\n",
       "</tr>\n",
       "<tr>\n",
       "  <th>Df Residuals:</th>          <td> 21609</td>      <th>  BIC:               </th> <td>1.930e+04</td>\n",
       "</tr>\n",
       "<tr>\n",
       "  <th>Df Model:</th>              <td>     3</td>      <th>                     </th>     <td> </td>    \n",
       "</tr>\n",
       "<tr>\n",
       "  <th>Covariance Type:</th>      <td>nonrobust</td>    <th>                     </th>     <td> </td>    \n",
       "</tr>\n",
       "</table>\n",
       "<table class=\"simpletable\">\n",
       "<tr>\n",
       "       <td></td>          <th>coef</th>     <th>std err</th>      <th>t</th>      <th>P>|t|</th>  <th>[0.025</th>    <th>0.975]</th>  \n",
       "</tr>\n",
       "<tr>\n",
       "  <th>const</th>       <td>   12.1879</td> <td>    0.008</td> <td> 1609.106</td> <td> 0.000</td> <td>   12.173</td> <td>   12.203</td>\n",
       "</tr>\n",
       "<tr>\n",
       "  <th>bathrooms</th>   <td>    0.0429</td> <td>    0.005</td> <td>    8.409</td> <td> 0.000</td> <td>    0.033</td> <td>    0.053</td>\n",
       "</tr>\n",
       "<tr>\n",
       "  <th>sqft_living</th> <td>    0.0004</td> <td> 6.47e-06</td> <td>   60.506</td> <td> 0.000</td> <td>    0.000</td> <td>    0.000</td>\n",
       "</tr>\n",
       "<tr>\n",
       "  <th>sqft_above</th>  <td>-2.534e-05</td> <td> 6.47e-06</td> <td>   -3.917</td> <td> 0.000</td> <td> -3.8e-05</td> <td>-1.27e-05</td>\n",
       "</tr>\n",
       "</table>\n",
       "<table class=\"simpletable\">\n",
       "<tr>\n",
       "  <th>Omnibus:</th>       <td> 6.113</td> <th>  Durbin-Watson:     </th> <td>   1.978</td>\n",
       "</tr>\n",
       "<tr>\n",
       "  <th>Prob(Omnibus):</th> <td> 0.047</td> <th>  Jarque-Bera (JB):  </th> <td>   6.135</td>\n",
       "</tr>\n",
       "<tr>\n",
       "  <th>Skew:</th>          <td> 0.040</td> <th>  Prob(JB):          </th> <td>  0.0465</td>\n",
       "</tr>\n",
       "<tr>\n",
       "  <th>Kurtosis:</th>      <td> 2.982</td> <th>  Cond. No.          </th> <td>9.56e+03</td>\n",
       "</tr>\n",
       "</table>"
      ],
      "text/plain": [
       "<class 'statsmodels.iolib.summary.Summary'>\n",
       "\"\"\"\n",
       "                            OLS Regression Results                            \n",
       "==============================================================================\n",
       "Dep. Variable:                lnprice   R-squared:                       0.485\n",
       "Model:                            OLS   Adj. R-squared:                  0.485\n",
       "Method:                 Least Squares   F-statistic:                     6795.\n",
       "Date:                Mon, 13 Nov 2017   Prob (F-statistic):               0.00\n",
       "Time:                        13:59:15   Log-Likelihood:                -9629.4\n",
       "No. Observations:               21613   AIC:                         1.927e+04\n",
       "Df Residuals:                   21609   BIC:                         1.930e+04\n",
       "Df Model:                           3                                         \n",
       "Covariance Type:            nonrobust                                         \n",
       "===============================================================================\n",
       "                  coef    std err          t      P>|t|      [0.025      0.975]\n",
       "-------------------------------------------------------------------------------\n",
       "const          12.1879      0.008   1609.106      0.000      12.173      12.203\n",
       "bathrooms       0.0429      0.005      8.409      0.000       0.033       0.053\n",
       "sqft_living     0.0004   6.47e-06     60.506      0.000       0.000       0.000\n",
       "sqft_above  -2.534e-05   6.47e-06     -3.917      0.000    -3.8e-05   -1.27e-05\n",
       "==============================================================================\n",
       "Omnibus:                        6.113   Durbin-Watson:                   1.978\n",
       "Prob(Omnibus):                  0.047   Jarque-Bera (JB):                6.135\n",
       "Skew:                           0.040   Prob(JB):                       0.0465\n",
       "Kurtosis:                       2.982   Cond. No.                     9.56e+03\n",
       "==============================================================================\n",
       "\n",
       "Warnings:\n",
       "[1] Standard Errors assume that the covariance matrix of the errors is correctly specified.\n",
       "[2] The condition number is large, 9.56e+03. This might indicate that there are\n",
       "strong multicollinearity or other numerical problems.\n",
       "\"\"\""
      ]
     },
     "execution_count": 7,
     "metadata": {},
     "output_type": "execute_result"
    }
   ],
   "source": [
    "import statsmodels.api as sm\n",
    "Y = dados['lnprice']\n",
    "X=dados[['bathrooms','sqft_living','sqft_above']]\n",
    "X=sm.add_constant(X)\n",
    "model = sm.OLS(Y,X)\n",
    "results = model.fit()\n",
    "results.summary()"
   ]
  }
 ],
 "metadata": {
  "kernelspec": {
   "display_name": "Python 3",
   "language": "python",
   "name": "python3"
  },
  "language_info": {
   "codemirror_mode": {
    "name": "ipython",
    "version": 3
   },
   "file_extension": ".py",
   "mimetype": "text/x-python",
   "name": "python",
   "nbconvert_exporter": "python",
   "pygments_lexer": "ipython3",
   "version": "3.6.1"
  }
 },
 "nbformat": 4,
 "nbformat_minor": 2
}
