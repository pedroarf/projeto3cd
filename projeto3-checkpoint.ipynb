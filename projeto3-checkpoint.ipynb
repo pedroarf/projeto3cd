{
 "cells": [
  {
   "cell_type": "markdown",
   "metadata": {},
   "source": [
    "Gabriel Camargo\n",
    "Pedro Fonseca\n",
    "Victor Aprigliano\n",
    "\n",
    "Tema: Regressão - Preço das Casas em King Country, USA. "
   ]
  },
  {
   "cell_type": "code",
   "execution_count": 1,
   "metadata": {
    "collapsed": true
   },
   "outputs": [],
   "source": [
    "%matplotlib inline\n",
    "import math\n",
    "import pandas as pd\n",
    "import matplotlib.pyplot as plt\n",
    "import os\n",
    "from numpy import arange\n",
    "import numpy as np"
   ]
  },
  {
   "cell_type": "code",
   "execution_count": 2,
   "metadata": {},
   "outputs": [
    {
     "name": "stdout",
     "output_type": "stream",
     "text": [
      "bedrooms\n",
      "0.308349598146\n",
      "bathrooms\n",
      "0.525137505414\n",
      "sqft_living\n",
      "0.702035054612\n",
      "sqft_lot\n",
      "0.0896608605871\n",
      "floors\n",
      "0.256793887551\n",
      "waterfront\n",
      "0.266369434031\n",
      "view\n",
      "0.397293488295\n",
      "condition\n",
      "0.036361789129\n",
      "grade\n",
      "0.66743425602\n",
      "sqft_above\n",
      "0.605567298356\n",
      "sqft_basement\n",
      "0.323816020712\n",
      "yr_built\n",
      "0.0540115314948\n",
      "yr_renovated\n",
      "0.126433793441\n",
      "zipcode\n",
      "-0.0532028542983\n",
      "lat\n",
      "0.307003479995\n",
      "long\n",
      "0.0216262410393\n",
      "sqft_living15\n",
      "0.58537890358\n",
      "sqft_lot15\n",
      "0.0824471525195\n"
     ]
    }
   ],
   "source": [
    "dados = pd.read_csv('kc_house_data.csv',sep=',')\n",
    "for j in dados.columns:\n",
    "    if j!='date':\n",
    "        if j!='id':\n",
    "            if j!='price':\n",
    "                print(j)\n",
    "                print(dados[j].corr(dados['price'])) #mais 3 pq as as duas primeiras nao sao quantitativas e a terceira eh o proprio preco"
   ]
  },
  {
   "cell_type": "markdown",
   "metadata": {},
   "source": [
    "Para a regressao escolhemos as variaveis com correlacao mais forte com o preco:"
   ]
  },
  {
   "cell_type": "code",
   "execution_count": 3,
   "metadata": {},
   "outputs": [
    {
     "data": {
      "text/html": [
       "<div>\n",
       "<style>\n",
       "    .dataframe thead tr:only-child th {\n",
       "        text-align: right;\n",
       "    }\n",
       "\n",
       "    .dataframe thead th {\n",
       "        text-align: left;\n",
       "    }\n",
       "\n",
       "    .dataframe tbody tr th {\n",
       "        vertical-align: top;\n",
       "    }\n",
       "</style>\n",
       "<table border=\"1\" class=\"dataframe\">\n",
       "  <thead>\n",
       "    <tr style=\"text-align: right;\">\n",
       "      <th></th>\n",
       "      <th>date</th>\n",
       "      <th>price</th>\n",
       "      <th>bedrooms</th>\n",
       "      <th>bathrooms</th>\n",
       "      <th>floors</th>\n",
       "      <th>view</th>\n",
       "      <th>sqft_living</th>\n",
       "      <th>sqft_above</th>\n",
       "      <th>grade</th>\n",
       "    </tr>\n",
       "  </thead>\n",
       "  <tbody>\n",
       "    <tr>\n",
       "      <th>0</th>\n",
       "      <td>20141013T000000</td>\n",
       "      <td>221900.0</td>\n",
       "      <td>3</td>\n",
       "      <td>1.00</td>\n",
       "      <td>1.0</td>\n",
       "      <td>0</td>\n",
       "      <td>1180</td>\n",
       "      <td>1180</td>\n",
       "      <td>7</td>\n",
       "    </tr>\n",
       "    <tr>\n",
       "      <th>1</th>\n",
       "      <td>20141209T000000</td>\n",
       "      <td>538000.0</td>\n",
       "      <td>3</td>\n",
       "      <td>2.25</td>\n",
       "      <td>2.0</td>\n",
       "      <td>0</td>\n",
       "      <td>2570</td>\n",
       "      <td>2170</td>\n",
       "      <td>7</td>\n",
       "    </tr>\n",
       "    <tr>\n",
       "      <th>2</th>\n",
       "      <td>20150225T000000</td>\n",
       "      <td>180000.0</td>\n",
       "      <td>2</td>\n",
       "      <td>1.00</td>\n",
       "      <td>1.0</td>\n",
       "      <td>0</td>\n",
       "      <td>770</td>\n",
       "      <td>770</td>\n",
       "      <td>6</td>\n",
       "    </tr>\n",
       "    <tr>\n",
       "      <th>3</th>\n",
       "      <td>20141209T000000</td>\n",
       "      <td>604000.0</td>\n",
       "      <td>4</td>\n",
       "      <td>3.00</td>\n",
       "      <td>1.0</td>\n",
       "      <td>0</td>\n",
       "      <td>1960</td>\n",
       "      <td>1050</td>\n",
       "      <td>7</td>\n",
       "    </tr>\n",
       "    <tr>\n",
       "      <th>4</th>\n",
       "      <td>20150218T000000</td>\n",
       "      <td>510000.0</td>\n",
       "      <td>3</td>\n",
       "      <td>2.00</td>\n",
       "      <td>1.0</td>\n",
       "      <td>0</td>\n",
       "      <td>1680</td>\n",
       "      <td>1680</td>\n",
       "      <td>8</td>\n",
       "    </tr>\n",
       "  </tbody>\n",
       "</table>\n",
       "</div>"
      ],
      "text/plain": [
       "              date     price  bedrooms  bathrooms  floors  view  sqft_living  \\\n",
       "0  20141013T000000  221900.0         3       1.00     1.0     0         1180   \n",
       "1  20141209T000000  538000.0         3       2.25     2.0     0         2570   \n",
       "2  20150225T000000  180000.0         2       1.00     1.0     0          770   \n",
       "3  20141209T000000  604000.0         4       3.00     1.0     0         1960   \n",
       "4  20150218T000000  510000.0         3       2.00     1.0     0         1680   \n",
       "\n",
       "   sqft_above  grade  \n",
       "0        1180      7  \n",
       "1        2170      7  \n",
       "2         770      6  \n",
       "3        1050      7  \n",
       "4        1680      8  "
      ]
     },
     "execution_count": 3,
     "metadata": {},
     "output_type": "execute_result"
    }
   ],
   "source": [
    "dados = dados.loc[:,['date','price','bedrooms',\"bathrooms\",'floors','view','sqft_living','sqft_above',\"grade\"]]\n",
    "#dados.columns=[\"Data de compra\",\"Preço (US DOLLAR)\",\"Nº Dormitórios\",\"Nº Banheiros\",\"Andares\",\"Vista\",'Área de Lazer',\"Área Térrea\",\"Avaliação\"]\n",
    "#dados['Data'] = pd.to_datetime(dados.Data).dados.strftime('%d/%m/%Y')\n",
    "dados.head()"
   ]
  },
  {
   "cell_type": "code",
   "execution_count": 10,
   "metadata": {},
   "outputs": [
    {
     "name": "stdout",
     "output_type": "stream",
     "text": [
      "Predicted House Price: $19643649712046\n"
     ]
    }
   ],
   "source": [
    "from sys import stdin\n",
    "import numpy as np # linear algebra\n",
    "import pandas as pd # data processing, CSV file I/O (e.g. pd.read_csv)\n",
    "from sklearn.linear_model import LinearRegression\n",
    "# Input data files are available in the \"../input/\" directory.\n",
    "# For example, running this (by clicking run or pressing Shift+Enter) will list the files in the input directory\n",
    "\n",
    "from subprocess import check_output\n",
    "#print(check_output([\"ls\", \"../input\"]).decode(\"utf8\"))\n",
    "\n",
    "# Any results you write to the current directory are saved as output.\n",
    "\n",
    "price = dados[\"price\"]\n",
    "space = dados[\"sqft_living\"]\n",
    "x = np.array(space).reshape(-1, 1)\n",
    "y = np.array(price)\n",
    "model = LinearRegression()\n",
    "model.fit(x, y)\n",
    "\n",
    "d = 70000000010\n",
    "pred = model.predict(d)\n",
    "for i in pred:\n",
    "    i = str(int(i))\n",
    "    print(\"Predicted House Price: \" + \"$\" + i)"
   ]
  },
  {
   "cell_type": "code",
   "execution_count": null,
   "metadata": {},
   "outputs": [],
   "source": [
    "fig = plt.figure(figsize=(11, 5))\n",
    "#faixa = arange(1000,2000000,30000)\n",
    "dados[\"lnprice\"]=(np.log((dados.price)))/(np.log(math.e))\n",
    "plot= dados.lnprice.plot.hist( title='Histograma Preco', normed=1, alpha=0.6,color = 'b')\n",
    "plt.ylabel('Densidade')\n",
    "plt.xlabel(\"Preco [Dolares americanos]\")\n",
    "plt.show()\n",
    "\n"
   ]
  },
  {
   "cell_type": "code",
   "execution_count": null,
   "metadata": {
    "collapsed": true
   },
   "outputs": [],
   "source": []
  },
  {
   "cell_type": "code",
   "execution_count": null,
   "metadata": {},
   "outputs": [],
   "source": [
    "pm=dados.price.mean()\n",
    "gm=dados.grade.mean()\n",
    "Sxx=0\n",
    "Sxy=0\n",
    "for a in range(len(dados)):\n",
    "    Sxy=Sxy+((dados.grade[a])-gm)*(dados.price[a]-pm)\n",
    "    Sxx=Sxx+(((dados.grade[a])-gm)**2)\n",
    "b1=Sxy/Sxx\n",
    "print(\"b1:\")\n",
    "print(b1)\n",
    "b0=pm-gm*b1\n",
    "print(\"b0:\")\n",
    "print(b0)\n",
    "e1=[]\n",
    "SSe=0\n",
    "SSr=0\n",
    "for a in range(len(dados)):\n",
    "    e1.append(dados.price[a]-(b0+b1*(dados.grade[a])))\n",
    "    SSe=SSe+(dados.price[a]-(b0+b1*(dados.grade[a])))**2\n",
    "    SSr=SSr+(dados.price[a]-pm)**2\n",
    "SSt=SSr+SSe\n",
    "Rsqt=1-(SSe/SSt)\n",
    "print(Rsqt)"
   ]
  },
  {
   "cell_type": "code",
   "execution_count": null,
   "metadata": {},
   "outputs": [],
   "source": [
    "import statsmodels.api as sm\n",
    "Y = dados['price']\n",
    "X=dados[['grade','sqft_living','sqft_above']\n",
    "X=sm.add_constant(X)\n",
    "model = sm.OLS(Y,X)\n",
    "results = model.fit()\n",
    "results.summary()"
   ]
  },
  {
   "cell_type": "code",
   "execution_count": null,
   "metadata": {
    "collapsed": true
   },
   "outputs": [],
   "source": []
  }
 ],
 "metadata": {
  "kernelspec": {
   "display_name": "Python 3",
   "language": "python",
   "name": "python3"
  },
  "language_info": {
   "codemirror_mode": {
    "name": "ipython",
    "version": 3
   },
   "file_extension": ".py",
   "mimetype": "text/x-python",
   "name": "python",
   "nbconvert_exporter": "python",
   "pygments_lexer": "ipython3",
   "version": "3.6.1"
  }
 },
 "nbformat": 4,
 "nbformat_minor": 2
}
